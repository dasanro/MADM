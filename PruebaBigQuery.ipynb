{
 "cells": [
  {
   "cell_type": "code",
   "execution_count": 1,
   "metadata": {},
   "outputs": [
    {
     "data": {
      "text/html": [
       "\n",
       "    <div class=\"bqtv\" id=\"1_154946957900\"><table><tr><th>f0_</th></tr><tr><td>116674</td></tr></table></div>\n",
       "    <br />(rows: 1, time: 0.9s,     0B processed, job: job_xV2RrDx-ImgO3Xu5_Anf-nHN7GpK)<br />\n",
       "    <script src=\"/static/components/requirejs/require.js\"></script>\n",
       "    <script>\n",
       "      require.config({\n",
       "        paths: {\n",
       "          base: '/static/base',\n",
       "          d3: '//cdnjs.cloudflare.com/ajax/libs/d3/3.4.13/d3',\n",
       "          plotly: 'https://cdn.plot.ly/plotly-1.5.1.min.js?noext',\n",
       "          jquery: '//ajax.googleapis.com/ajax/libs/jquery/2.0.0/jquery.min'\n",
       "        },\n",
       "        map: {\n",
       "          '*': {\n",
       "            datalab: 'nbextensions/gcpdatalab'\n",
       "          }\n",
       "        },\n",
       "        shim: {\n",
       "          plotly: {\n",
       "            deps: ['d3', 'jquery'],\n",
       "            exports: 'plotly'\n",
       "          }\n",
       "        }\n",
       "      });\n",
       "\n",
       "      require(['datalab/charting', 'datalab/element!1_154946957900', 'base/js/events',\n",
       "          'datalab/style!/nbextensions/gcpdatalab/charting.css'],\n",
       "        function(charts, dom, events) {\n",
       "          charts.render('gcharts', dom, events, 'table', [], {\"rows\": [{\"c\": [{\"v\": 116674}]}], \"cols\": [{\"type\": \"number\", \"id\": \"f0_\", \"label\": \"f0_\"}]},\n",
       "            {\n",
       "              pageSize: 25,\n",
       "              cssClassNames:  {\n",
       "                tableRow: 'gchart-table-row',\n",
       "                headerRow: 'gchart-table-headerrow',\n",
       "                oddTableRow: 'gchart-table-oddrow',\n",
       "                selectedTableRow: 'gchart-table-selectedrow',\n",
       "                hoverTableRow: 'gchart-table-hoverrow',\n",
       "                tableCell: 'gchart-table-cell',\n",
       "                headerCell: 'gchart-table-headercell',\n",
       "                rowNumberCell: 'gchart-table-rownumcell'\n",
       "              }\n",
       "            },\n",
       "            {source_index: 0, fields: 'f0_'},\n",
       "            0,\n",
       "            1);\n",
       "        }\n",
       "      );\n",
       "    </script>\n",
       "  "
      ],
      "text/plain": [
       "QueryResultsTable job_xV2RrDx-ImgO3Xu5_Anf-nHN7GpK"
      ]
     },
     "execution_count": 1,
     "metadata": {},
     "output_type": "execute_result"
    }
   ],
   "source": [
    "%bq query\n",
    "SELECT\n",
    " COUNT(*)\n",
    "FROM `bigquery-public-data.austin_crime.crime` "
   ]
  },
  {
   "cell_type": "code",
   "execution_count": 3,
   "metadata": {},
   "outputs": [
    {
     "name": "stdout",
     "output_type": "stream",
     "text": [
      "Collecting google-cloud-bigquery[pandas]\n",
      "  Downloading https://files.pythonhosted.org/packages/bd/70/42fb25d7c537c053bc12a03703aed1eba47a7e900606119a52f06a37fb6e/google_cloud_bigquery-1.9.0-py2.py3-none-any.whl (87kB)\n",
      "Collecting google-cloud-core<0.30dev,>=0.29.0 (from google-cloud-bigquery[pandas])\n",
      "  Downloading https://files.pythonhosted.org/packages/0c/f2/3c225e7a69cb27d283b68bff867722bd066bc1858611180197f711815ea5/google_cloud_core-0.29.1-py2.py3-none-any.whl\n",
      "Collecting google-api-core<2.0.0dev,>=1.6.0 (from google-cloud-bigquery[pandas])\n",
      "  Downloading https://files.pythonhosted.org/packages/8b/01/13758ff9b970008ccf9e0dcc3b86d0e01937d7485b9a2c6142c9c2bdb4da/google_api_core-1.7.0-py2.py3-none-any.whl (64kB)\n",
      "Requirement already satisfied, skipping upgrade: google-resumable-media>=0.3.1 in /usr/local/envs/py2env/lib/python2.7/site-packages (from google-cloud-bigquery[pandas]) (0.3.2)\n",
      "Requirement already satisfied, skipping upgrade: pandas>=0.17.1; extra == \"pandas\" in /usr/local/envs/py2env/lib/python2.7/site-packages (from google-cloud-bigquery[pandas]) (0.22.0)\n",
      "Requirement already satisfied, skipping upgrade: protobuf>=3.4.0 in /usr/local/envs/py2env/lib/python2.7/site-packages (from google-api-core<2.0.0dev,>=1.6.0->google-cloud-bigquery[pandas]) (3.6.1)\n",
      "Requirement already satisfied, skipping upgrade: googleapis-common-protos!=1.5.4,<2.0dev,>=1.5.3 in /usr/local/envs/py2env/lib/python2.7/site-packages (from google-api-core<2.0.0dev,>=1.6.0->google-cloud-bigquery[pandas]) (1.5.5)\n",
      "Requirement already satisfied, skipping upgrade: requests<3.0.0dev,>=2.18.0 in /usr/local/envs/py2env/lib/python2.7/site-packages (from google-api-core<2.0.0dev,>=1.6.0->google-cloud-bigquery[pandas]) (2.18.4)\n",
      "Requirement already satisfied, skipping upgrade: futures>=3.2.0; python_version < \"3.2\" in /usr/local/envs/py2env/lib/python2.7/site-packages (from google-api-core<2.0.0dev,>=1.6.0->google-cloud-bigquery[pandas]) (3.2.0)\n",
      "Requirement already satisfied, skipping upgrade: pytz in /usr/local/envs/py2env/lib/python2.7/site-packages (from google-api-core<2.0.0dev,>=1.6.0->google-cloud-bigquery[pandas]) (2018.4)\n",
      "Requirement already satisfied, skipping upgrade: six>=1.10.0 in /usr/local/envs/py2env/lib/python2.7/site-packages (from google-api-core<2.0.0dev,>=1.6.0->google-cloud-bigquery[pandas]) (1.10.0)\n",
      "Requirement already satisfied, skipping upgrade: setuptools>=34.0.0 in /usr/local/envs/py2env/lib/python2.7/site-packages (from google-api-core<2.0.0dev,>=1.6.0->google-cloud-bigquery[pandas]) (40.6.3)\n",
      "Requirement already satisfied, skipping upgrade: google-auth<2.0dev,>=0.4.0 in /usr/local/envs/py2env/lib/python2.7/site-packages (from google-api-core<2.0.0dev,>=1.6.0->google-cloud-bigquery[pandas]) (1.6.2)\n",
      "Requirement already satisfied, skipping upgrade: python-dateutil in /usr/local/envs/py2env/lib/python2.7/site-packages (from pandas>=0.17.1; extra == \"pandas\"->google-cloud-bigquery[pandas]) (2.5.0)\n",
      "Requirement already satisfied, skipping upgrade: numpy>=1.9.0 in /usr/local/envs/py2env/lib/python2.7/site-packages (from pandas>=0.17.1; extra == \"pandas\"->google-cloud-bigquery[pandas]) (1.14.0)\n",
      "Requirement already satisfied, skipping upgrade: chardet<3.1.0,>=3.0.2 in /usr/local/envs/py2env/lib/python2.7/site-packages (from requests<3.0.0dev,>=2.18.0->google-api-core<2.0.0dev,>=1.6.0->google-cloud-bigquery[pandas]) (3.0.4)\n",
      "Requirement already satisfied, skipping upgrade: idna<2.7,>=2.5 in /usr/local/envs/py2env/lib/python2.7/site-packages (from requests<3.0.0dev,>=2.18.0->google-api-core<2.0.0dev,>=1.6.0->google-cloud-bigquery[pandas]) (2.6)\n",
      "Requirement already satisfied, skipping upgrade: urllib3<1.23,>=1.21.1 in /usr/local/envs/py2env/lib/python2.7/site-packages (from requests<3.0.0dev,>=2.18.0->google-api-core<2.0.0dev,>=1.6.0->google-cloud-bigquery[pandas]) (1.22)\n",
      "Requirement already satisfied, skipping upgrade: certifi>=2017.4.17 in /usr/local/envs/py2env/lib/python2.7/site-packages (from requests<3.0.0dev,>=2.18.0->google-api-core<2.0.0dev,>=1.6.0->google-cloud-bigquery[pandas]) (2018.11.29)\n",
      "Requirement already satisfied, skipping upgrade: pyasn1-modules>=0.2.1 in /usr/local/envs/py2env/lib/python2.7/site-packages (from google-auth<2.0dev,>=0.4.0->google-api-core<2.0.0dev,>=1.6.0->google-cloud-bigquery[pandas]) (0.2.2)\n",
      "Requirement already satisfied, skipping upgrade: cachetools>=2.0.0 in /usr/local/envs/py2env/lib/python2.7/site-packages (from google-auth<2.0dev,>=0.4.0->google-api-core<2.0.0dev,>=1.6.0->google-cloud-bigquery[pandas]) (2.1.0)\n",
      "Requirement already satisfied, skipping upgrade: rsa>=3.1.4 in /usr/local/envs/py2env/lib/python2.7/site-packages (from google-auth<2.0dev,>=0.4.0->google-api-core<2.0.0dev,>=1.6.0->google-cloud-bigquery[pandas]) (3.4.2)\n",
      "Requirement already satisfied, skipping upgrade: pyasn1<0.5.0,>=0.4.1 in /usr/local/envs/py2env/lib/python2.7/site-packages (from pyasn1-modules>=0.2.1->google-auth<2.0dev,>=0.4.0->google-api-core<2.0.0dev,>=1.6.0->google-cloud-bigquery[pandas]) (0.4.4)\n",
      "Installing collected packages: google-api-core, google-cloud-core, google-cloud-bigquery\n",
      "  Found existing installation: google-api-core 0.1.4\n",
      "    Uninstalling google-api-core-0.1.4:\n",
      "      Successfully uninstalled google-api-core-0.1.4\n",
      "  Found existing installation: google-cloud-core 0.28.1\n",
      "    Uninstalling google-cloud-core-0.28.1:\n",
      "      Successfully uninstalled google-cloud-core-0.28.1\n",
      "  Found existing installation: google-cloud-bigquery 0.23.0\n",
      "    Uninstalling google-cloud-bigquery-0.23.0:\n",
      "      Successfully uninstalled google-cloud-bigquery-0.23.0\n",
      "Successfully installed google-api-core-1.7.0 google-cloud-bigquery-1.9.0 google-cloud-core-0.29.1\n"
     ]
    },
    {
     "name": "stderr",
     "output_type": "stream",
     "text": [
      "google-cloud-monitoring 0.28.0 has requirement google-api-core<0.2.0dev,>=0.1.1, but you'll have google-api-core 1.7.0 which is incompatible.\n",
      "google-cloud-monitoring 0.28.0 has requirement google-cloud-core<0.29dev,>=0.28.0, but you'll have google-cloud-core 0.29.1 which is incompatible.\n",
      "google-cloud-dataflow 2.0.0 has requirement google-cloud-bigquery<0.24.0,>=0.23.0, but you'll have google-cloud-bigquery 1.9.0 which is incompatible.\n",
      "google-cloud-dataflow 2.0.0 has requirement httplib2<0.10,>=0.8, but you'll have httplib2 0.12.0 which is incompatible.\n",
      "google-cloud-dataflow 2.0.0 has requirement protobuf==3.2.0, but you'll have protobuf 3.6.1 which is incompatible.\n"
     ]
    }
   ],
   "source": [
    "%sh\n",
    "pip install --upgrade google-cloud-bigquery[pandas]"
   ]
  },
  {
   "cell_type": "code",
   "execution_count": 4,
   "metadata": {},
   "outputs": [],
   "source": [
    "import pandas"
   ]
  },
  {
   "cell_type": "code",
   "execution_count": 7,
   "metadata": {},
   "outputs": [
    {
     "data": {
      "text/html": [
       "\n",
       "    <div class=\"bqtv\" id=\"2_154946985639\"><table><tr><th>year</th><th>birth_count</th></tr><tr><td>2008</td><td>4255156</td></tr><tr><td>2007</td><td>4324008</td></tr><tr><td>2006</td><td>4273225</td></tr><tr><td>2005</td><td>4145619</td></tr><tr><td>2004</td><td>4118907</td></tr><tr><td>2003</td><td>4096092</td></tr><tr><td>2002</td><td>4027376</td></tr><tr><td>2001</td><td>4031531</td></tr><tr><td>2000</td><td>4063823</td></tr><tr><td>1999</td><td>3963465</td></tr><tr><td>1998</td><td>3945192</td></tr><tr><td>1997</td><td>3884329</td></tr><tr><td>1996</td><td>3894874</td></tr><tr><td>1995</td><td>3903012</td></tr><tr><td>1994</td><td>3956925</td></tr></table></div>\n",
       "    <br />(rows: 15, time: 2.1s,     1GB processed, job: job_Qmy73s2aMPs28mYDqehGxKd2biRf)<br />\n",
       "    <script src=\"/static/components/requirejs/require.js\"></script>\n",
       "    <script>\n",
       "      require.config({\n",
       "        paths: {\n",
       "          base: '/static/base',\n",
       "          d3: '//cdnjs.cloudflare.com/ajax/libs/d3/3.4.13/d3',\n",
       "          plotly: 'https://cdn.plot.ly/plotly-1.5.1.min.js?noext',\n",
       "          jquery: '//ajax.googleapis.com/ajax/libs/jquery/2.0.0/jquery.min'\n",
       "        },\n",
       "        map: {\n",
       "          '*': {\n",
       "            datalab: 'nbextensions/gcpdatalab'\n",
       "          }\n",
       "        },\n",
       "        shim: {\n",
       "          plotly: {\n",
       "            deps: ['d3', 'jquery'],\n",
       "            exports: 'plotly'\n",
       "          }\n",
       "        }\n",
       "      });\n",
       "\n",
       "      require(['datalab/charting', 'datalab/element!2_154946985639', 'base/js/events',\n",
       "          'datalab/style!/nbextensions/gcpdatalab/charting.css'],\n",
       "        function(charts, dom, events) {\n",
       "          charts.render('gcharts', dom, events, 'table', [], {\"rows\": [{\"c\": [{\"v\": 2008}, {\"v\": 4255156}]}, {\"c\": [{\"v\": 2007}, {\"v\": 4324008}]}, {\"c\": [{\"v\": 2006}, {\"v\": 4273225}]}, {\"c\": [{\"v\": 2005}, {\"v\": 4145619}]}, {\"c\": [{\"v\": 2004}, {\"v\": 4118907}]}, {\"c\": [{\"v\": 2003}, {\"v\": 4096092}]}, {\"c\": [{\"v\": 2002}, {\"v\": 4027376}]}, {\"c\": [{\"v\": 2001}, {\"v\": 4031531}]}, {\"c\": [{\"v\": 2000}, {\"v\": 4063823}]}, {\"c\": [{\"v\": 1999}, {\"v\": 3963465}]}, {\"c\": [{\"v\": 1998}, {\"v\": 3945192}]}, {\"c\": [{\"v\": 1997}, {\"v\": 3884329}]}, {\"c\": [{\"v\": 1996}, {\"v\": 3894874}]}, {\"c\": [{\"v\": 1995}, {\"v\": 3903012}]}, {\"c\": [{\"v\": 1994}, {\"v\": 3956925}]}], \"cols\": [{\"type\": \"number\", \"id\": \"year\", \"label\": \"year\"}, {\"type\": \"number\", \"id\": \"birth_count\", \"label\": \"birth_count\"}]},\n",
       "            {\n",
       "              pageSize: 25,\n",
       "              cssClassNames:  {\n",
       "                tableRow: 'gchart-table-row',\n",
       "                headerRow: 'gchart-table-headerrow',\n",
       "                oddTableRow: 'gchart-table-oddrow',\n",
       "                selectedTableRow: 'gchart-table-selectedrow',\n",
       "                hoverTableRow: 'gchart-table-hoverrow',\n",
       "                tableCell: 'gchart-table-cell',\n",
       "                headerCell: 'gchart-table-headercell',\n",
       "                rowNumberCell: 'gchart-table-rownumcell'\n",
       "              }\n",
       "            },\n",
       "            {source_index: 1, fields: 'year,birth_count'},\n",
       "            0,\n",
       "            15);\n",
       "        }\n",
       "      );\n",
       "    </script>\n",
       "  "
      ],
      "text/plain": [
       "QueryResultsTable job_Qmy73s2aMPs28mYDqehGxKd2biRf"
      ]
     },
     "execution_count": 7,
     "metadata": {},
     "output_type": "execute_result"
    }
   ],
   "source": [
    "%%bq query\n",
    "SELECT\n",
    "    source_year AS year,\n",
    "    COUNT(is_male) AS birth_count\n",
    "FROM `bigquery-public-data.samples.natality`\n",
    "GROUP BY year\n",
    "ORDER BY year DESC\n",
    "LIMIT 15"
   ]
  },
  {
   "cell_type": "code",
   "execution_count": 9,
   "metadata": {},
   "outputs": [
    {
     "data": {
      "text/html": [
       "\n",
       "    <div class=\"bqtv\" id=\"3_154946991124\"><table><tr><th>year</th><th>birth_count</th></tr><tr><td>2008</td><td>4255156</td></tr><tr><td>2007</td><td>4324008</td></tr><tr><td>2006</td><td>4273225</td></tr><tr><td>2005</td><td>4145619</td></tr><tr><td>2004</td><td>4118907</td></tr><tr><td>2003</td><td>4096092</td></tr><tr><td>2002</td><td>4027376</td></tr><tr><td>2001</td><td>4031531</td></tr><tr><td>2000</td><td>4063823</td></tr><tr><td>1999</td><td>3963465</td></tr><tr><td>1998</td><td>3945192</td></tr><tr><td>1997</td><td>3884329</td></tr><tr><td>1996</td><td>3894874</td></tr><tr><td>1995</td><td>3903012</td></tr><tr><td>1994</td><td>3956925</td></tr></table></div>\n",
       "    <br />(rows: 15, time: 0.2s, cached, job: job_yEWOpAPwWlwY24rHMpHVKoU1bFz_)<br />\n",
       "    <script src=\"/static/components/requirejs/require.js\"></script>\n",
       "    <script>\n",
       "      require.config({\n",
       "        paths: {\n",
       "          base: '/static/base',\n",
       "          d3: '//cdnjs.cloudflare.com/ajax/libs/d3/3.4.13/d3',\n",
       "          plotly: 'https://cdn.plot.ly/plotly-1.5.1.min.js?noext',\n",
       "          jquery: '//ajax.googleapis.com/ajax/libs/jquery/2.0.0/jquery.min'\n",
       "        },\n",
       "        map: {\n",
       "          '*': {\n",
       "            datalab: 'nbextensions/gcpdatalab'\n",
       "          }\n",
       "        },\n",
       "        shim: {\n",
       "          plotly: {\n",
       "            deps: ['d3', 'jquery'],\n",
       "            exports: 'plotly'\n",
       "          }\n",
       "        }\n",
       "      });\n",
       "\n",
       "      require(['datalab/charting', 'datalab/element!3_154946991124', 'base/js/events',\n",
       "          'datalab/style!/nbextensions/gcpdatalab/charting.css'],\n",
       "        function(charts, dom, events) {\n",
       "          charts.render('gcharts', dom, events, 'table', [], {\"rows\": [{\"c\": [{\"v\": 2008}, {\"v\": 4255156}]}, {\"c\": [{\"v\": 2007}, {\"v\": 4324008}]}, {\"c\": [{\"v\": 2006}, {\"v\": 4273225}]}, {\"c\": [{\"v\": 2005}, {\"v\": 4145619}]}, {\"c\": [{\"v\": 2004}, {\"v\": 4118907}]}, {\"c\": [{\"v\": 2003}, {\"v\": 4096092}]}, {\"c\": [{\"v\": 2002}, {\"v\": 4027376}]}, {\"c\": [{\"v\": 2001}, {\"v\": 4031531}]}, {\"c\": [{\"v\": 2000}, {\"v\": 4063823}]}, {\"c\": [{\"v\": 1999}, {\"v\": 3963465}]}, {\"c\": [{\"v\": 1998}, {\"v\": 3945192}]}, {\"c\": [{\"v\": 1997}, {\"v\": 3884329}]}, {\"c\": [{\"v\": 1996}, {\"v\": 3894874}]}, {\"c\": [{\"v\": 1995}, {\"v\": 3903012}]}, {\"c\": [{\"v\": 1994}, {\"v\": 3956925}]}], \"cols\": [{\"type\": \"number\", \"id\": \"year\", \"label\": \"year\"}, {\"type\": \"number\", \"id\": \"birth_count\", \"label\": \"birth_count\"}]},\n",
       "            {\n",
       "              pageSize: 25,\n",
       "              cssClassNames:  {\n",
       "                tableRow: 'gchart-table-row',\n",
       "                headerRow: 'gchart-table-headerrow',\n",
       "                oddTableRow: 'gchart-table-oddrow',\n",
       "                selectedTableRow: 'gchart-table-selectedrow',\n",
       "                hoverTableRow: 'gchart-table-hoverrow',\n",
       "                tableCell: 'gchart-table-cell',\n",
       "                headerCell: 'gchart-table-headercell',\n",
       "                rowNumberCell: 'gchart-table-rownumcell'\n",
       "              }\n",
       "            },\n",
       "            {source_index: 1, fields: 'year,birth_count'},\n",
       "            0,\n",
       "            15);\n",
       "        }\n",
       "      );\n",
       "    </script>\n",
       "  "
      ],
      "text/plain": [
       "QueryResultsTable job_yEWOpAPwWlwY24rHMpHVKoU1bFz_"
      ]
     },
     "execution_count": 9,
     "metadata": {},
     "output_type": "execute_result"
    }
   ],
   "source": [
    "%%bq query\n",
    "SELECT\n",
    "    source_year AS year,\n",
    "    COUNT(is_male) AS birth_count\n",
    "FROM `bigquery-public-data.samples.natality`\n",
    "GROUP BY year\n",
    "ORDER BY year DESC\n",
    "LIMIT 15"
   ]
  },
  {
   "cell_type": "code",
   "execution_count": 10,
   "metadata": {},
   "outputs": [],
   "source": [
    "%matplotlib inline"
   ]
  },
  {
   "cell_type": "code",
   "execution_count": null,
   "metadata": {},
   "outputs": [],
   "source": []
  }
 ],
 "metadata": {
  "kernelspec": {
   "display_name": "Python 2",
   "language": "python",
   "name": "python2"
  },
  "language_info": {
   "codemirror_mode": {
    "name": "ipython",
    "version": 2
   },
   "file_extension": ".py",
   "mimetype": "text/x-python",
   "name": "python",
   "nbconvert_exporter": "python",
   "pygments_lexer": "ipython2",
   "version": "2.7.15"
  }
 },
 "nbformat": 4,
 "nbformat_minor": 2
}
